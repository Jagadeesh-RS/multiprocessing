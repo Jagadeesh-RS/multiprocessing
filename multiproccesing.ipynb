{
 "cells": [
  {
   "cell_type": "code",
   "execution_count": null,
   "id": "b2577be8-701c-4d76-b52b-38f6653a823c",
   "metadata": {},
   "outputs": [],
   "source": [
    "Q1. What is multiprocessing in python? Why is it useful?\n",
    "\n",
    "Muliprocessing lets the user to create multiple instances and process the program paralelly across all the processors available.\n",
    "it ultilzes all the available processors\n",
    "\n",
    "\n"
   ]
  },
  {
   "cell_type": "raw",
   "id": "b1ddf5c9-139b-4524-9cf6-7dc6c5e33892",
   "metadata": {},
   "source": [
    "\"\"\"\n",
    "Q2. What are the differences between multiprocessing and multithreading?\n",
    "\n",
    "Multiprocessing process the data parallely by creating multiple instances\n",
    "whereas \n",
    "multithreading can process only one program at a time i,e\n",
    "multithreading has a advantage of moving to next input of the program when the current program\n",
    "\n",
    "multiprocessing is symmentric\n",
    "whereas\n",
    "multithreading is concurrent\n",
    "\n",
    "\n",
    "\n"
   ]
  },
  {
   "cell_type": "code",
   "execution_count": 6,
   "id": "897f074a-49b0-4def-ba99-19abbc04d6da",
   "metadata": {},
   "outputs": [
    {
     "name": "stdout",
     "output_type": "stream",
     "text": [
      "141692536644981\n",
      "\n",
      "\n",
      "\n",
      "\n",
      "\n",
      "\n",
      "\n",
      "\n",
      "[None, None, None, None, None, None, None, None, None]\n"
     ]
    }
   ],
   "source": [
    "\"\"\"\n",
    "Q3. Write a python code to create a process using the multiprocessing module.\n",
    "\"\"\"\n",
    "import multiprocessing\n",
    "def sq(x):\n",
    "    return (x*x)\n",
    "if __name__=='__main__':\n",
    "    with multiprocessing.Pool(processes=10) as pool:\n",
    "        out=pool.map(sq,[1,2,3,4,5,6,7,8,9])\n",
    "        print(out)"
   ]
  },
  {
   "cell_type": "raw",
   "id": "58876b10-1f03-417b-92c1-17a52dba6c57",
   "metadata": {},
   "source": [
    "Q4. What is a multiprocessing pool in python? Why is it used?\n",
    "\n",
    "Multiprocessing pool lets the user to run the program parallley across multiple input values.  The pool manages the number of distributed process and fetchs the output.\n",
    "This enablels the user to use the system optimally\n"
   ]
  },
  {
   "cell_type": "code",
   "execution_count": null,
   "id": "9338b05e-ff49-4408-9098-828c219804d9",
   "metadata": {},
   "outputs": [],
   "source": [
    "\"\"\"\n",
    "Q5. How can we create a pool of worker processes in python using the multiprocessing module?\n",
    "\n",
    "we can create the pool by using pool module from multiprocessing package (example below)\n",
    "import multiprocessing\n",
    "def sq(x):\n",
    "    return (x*x)\n",
    "if __name__=='__main__':\n",
    "    with multiprocessing.Pool(processes=10) as pool:\n",
    "        out=pool.map(sq,[1,2,3,4,5,6,7,8,9])\n",
    "        print(out)\n",
    "\n",
    "\"\"\""
   ]
  },
  {
   "cell_type": "code",
   "execution_count": 27,
   "id": "4798bd90-9853-4167-8bee-c6c7692e73c0",
   "metadata": {},
   "outputs": [
    {
     "name": "stdout",
     "output_type": "stream",
     "text": [
      "process 11\n",
      "process 22\n",
      "process 33\n",
      "process 44"
     ]
    },
    {
     "ename": "TypeError",
     "evalue": "'Process' object is not iterable",
     "output_type": "error",
     "traceback": [
      "\u001b[0;31m---------------------------------------------------------------------------\u001b[0m",
      "\u001b[0;31mTypeError\u001b[0m                                 Traceback (most recent call last)",
      "Cell \u001b[0;32mIn[27], line 16\u001b[0m\n\u001b[1;32m     14\u001b[0m     process\u001b[38;5;241m.\u001b[39mappend(ps)\n\u001b[1;32m     15\u001b[0m     ps\u001b[38;5;241m.\u001b[39mstart()\n\u001b[0;32m---> 16\u001b[0m \u001b[38;5;28;01mfor\u001b[39;00m i \u001b[38;5;129;01min\u001b[39;00m ps:\n\u001b[1;32m     17\u001b[0m     i\u001b[38;5;241m.\u001b[39mjoin()\n",
      "\u001b[0;31mTypeError\u001b[0m: 'Process' object is not iterable"
     ]
    },
    {
     "name": "stdout",
     "output_type": "stream",
     "text": [
      "\n"
     ]
    }
   ],
   "source": [
    "\n",
    "       \"\"\"\n",
    "Q6. Write a python program to create 4 processes, each process should print a different number using the\n",
    "multiprocessing module in python.\n",
    "\"\"\"\n",
    "\n",
    "def prnt(x):\n",
    "    print(\"process {}\".format(x,x))\n",
    "    \n",
    "if __name__ == \"__main__\":\n",
    "    num=[11,22,33,44]\n",
    "    process=[]\n",
    "for n in num:\n",
    "    ps=multiprocessing.Process(target=prnt,args=(n,))\n",
    "    process.append(ps)\n",
    "    ps.start()\n",
    "for i in ps:\n",
    "    i.join()\n",
    "    \n"
   ]
  },
  {
   "cell_type": "code",
   "execution_count": 26,
   "id": "74b87c8d-f002-4a53-901c-08341cb0b89e",
   "metadata": {},
   "outputs": [
    {
     "name": "stdout",
     "output_type": "stream",
     "text": [
      "Process 1: 1\n",
      "Process 2: 2\n",
      "Process 3: 3\n",
      "Process 4: 4\n"
     ]
    }
   ],
   "source": [
    "import multiprocessing\n",
    "\n",
    "def print_number(number):\n",
    "    print(f\"Process {number}: {number}\")\n",
    "\n",
    "if __name__ == \"__main__\":\n",
    "    # Create a list of numbers to be printed by each process\n",
    "    numbers = [1, 2, 3, 4]\n",
    "\n",
    "    # Create a list to hold the process objects\n",
    "    processes = []\n",
    "\n",
    "    # Create and start each process\n",
    "    for num in numbers:\n",
    "        process = multiprocessing.Process(target=print_number, args=(num,))\n",
    "        processes.append(process)\n",
    "        process.start()\n",
    "\n",
    "    # Wait for all processes to complete\n",
    "    for process in processes:\n",
    "        process.join()\n"
   ]
  },
  {
   "cell_type": "code",
   "execution_count": null,
   "id": "749fd74f-26cd-4c3a-82bb-381e55bee250",
   "metadata": {},
   "outputs": [],
   "source": []
  },
  {
   "cell_type": "code",
   "execution_count": null,
   "id": "c8fbbcee-9e0a-4fd9-af6a-a99d81ec76b9",
   "metadata": {},
   "outputs": [],
   "source": []
  },
  {
   "cell_type": "code",
   "execution_count": null,
   "id": "133cd1a7-ea68-4493-b7ba-d2755d6cfe29",
   "metadata": {},
   "outputs": [],
   "source": []
  },
  {
   "cell_type": "code",
   "execution_count": null,
   "id": "607060eb-0ebb-46c4-8d92-acf8da1e57ac",
   "metadata": {},
   "outputs": [],
   "source": []
  },
  {
   "cell_type": "code",
   "execution_count": null,
   "id": "4b8c6fec-0b48-4125-9dae-236126e5586f",
   "metadata": {},
   "outputs": [],
   "source": []
  },
  {
   "cell_type": "code",
   "execution_count": null,
   "id": "295d789c-9798-48c4-afa1-e534e9b663b2",
   "metadata": {},
   "outputs": [],
   "source": []
  },
  {
   "cell_type": "code",
   "execution_count": null,
   "id": "c4e270bb-68de-4804-b321-c89c0c703ce5",
   "metadata": {},
   "outputs": [],
   "source": []
  },
  {
   "cell_type": "code",
   "execution_count": null,
   "id": "b71657ac-ef2e-4746-bde2-20d58739ea42",
   "metadata": {},
   "outputs": [],
   "source": []
  },
  {
   "cell_type": "code",
   "execution_count": null,
   "id": "6f17a4f6-1937-4b0d-b222-000a27dc729f",
   "metadata": {},
   "outputs": [],
   "source": []
  },
  {
   "cell_type": "code",
   "execution_count": null,
   "id": "27806982-8068-43a4-9a5c-585d91205d58",
   "metadata": {},
   "outputs": [],
   "source": []
  },
  {
   "cell_type": "code",
   "execution_count": null,
   "id": "6803b23f-dba3-44f3-87ab-38fdaf8866c6",
   "metadata": {},
   "outputs": [],
   "source": []
  },
  {
   "cell_type": "code",
   "execution_count": null,
   "id": "4345901f-419e-4b0a-8ce3-87e498d84fb7",
   "metadata": {},
   "outputs": [],
   "source": []
  },
  {
   "cell_type": "code",
   "execution_count": null,
   "id": "14371bcf-ebd5-41f2-8674-0f8cbe1fba66",
   "metadata": {},
   "outputs": [],
   "source": []
  },
  {
   "cell_type": "code",
   "execution_count": null,
   "id": "80d18bbf-314a-4bd3-aae4-59d58b39143e",
   "metadata": {},
   "outputs": [],
   "source": []
  },
  {
   "cell_type": "code",
   "execution_count": null,
   "id": "3bd7a2f6-8889-4795-be3a-de97562eb34c",
   "metadata": {},
   "outputs": [],
   "source": []
  },
  {
   "cell_type": "code",
   "execution_count": null,
   "id": "ae872d94-40d9-4820-b9f1-e74d1a3766eb",
   "metadata": {},
   "outputs": [],
   "source": []
  }
 ],
 "metadata": {
  "kernelspec": {
   "display_name": "Python 3 (ipykernel)",
   "language": "python",
   "name": "python3"
  },
  "language_info": {
   "codemirror_mode": {
    "name": "ipython",
    "version": 3
   },
   "file_extension": ".py",
   "mimetype": "text/x-python",
   "name": "python",
   "nbconvert_exporter": "python",
   "pygments_lexer": "ipython3",
   "version": "3.10.8"
  }
 },
 "nbformat": 4,
 "nbformat_minor": 5
}
